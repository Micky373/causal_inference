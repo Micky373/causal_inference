{
 "cells": [
  {
   "cell_type": "code",
   "execution_count": null,
   "metadata": {},
   "outputs": [],
   "source": [
    "import pandas as pd\n",
    "import matplotlib.pyplot as plt\n",
    "import seaborn as sns\n",
    "import numpy as np \n",
    "from sklearn.preprocessing import LabelEncoder"
   ]
  },
  {
   "cell_type": "code",
   "execution_count": null,
   "metadata": {},
   "outputs": [],
   "source": [
    "df = pd.read_csv(\"../data/data.csv\")\n",
    "df.columns"
   ]
  },
  {
   "cell_type": "code",
   "execution_count": null,
   "metadata": {},
   "outputs": [],
   "source": [
    "df.drop('Unnamed: 32', inplace=True, axis=1)\n",
    "df.columns"
   ]
  },
  {
   "cell_type": "code",
   "execution_count": null,
   "metadata": {},
   "outputs": [],
   "source": [
    "df.info()"
   ]
  },
  {
   "cell_type": "code",
   "execution_count": null,
   "metadata": {},
   "outputs": [],
   "source": [
    "df.describe()"
   ]
  },
  {
   "cell_type": "code",
   "execution_count": null,
   "metadata": {},
   "outputs": [],
   "source": [
    "df.isna().sum()"
   ]
  },
  {
   "cell_type": "code",
   "execution_count": null,
   "metadata": {},
   "outputs": [],
   "source": [
    "df.shape"
   ]
  },
  {
   "cell_type": "code",
   "execution_count": null,
   "metadata": {},
   "outputs": [],
   "source": [
    "df.diagnosis.value_counts()"
   ]
  },
  {
   "cell_type": "code",
   "execution_count": null,
   "metadata": {},
   "outputs": [],
   "source": [
    "def count_plot(df:pd.DataFrame, column:str) -> None:\n",
    "    plt.figure(figsize=(10, 8))\n",
    "    sns.countplot(data=df, x=column)\n",
    "    plt.xlabel(f'{column}', fontsize=17)\n",
    "    plt.ylabel(\"Count\", fontsize=17)\n",
    "    plt.title(f'\\nDistribution of {column}\\n', size=20, fontweight='bold')\n",
    "    plt.savefig('../charts/count_plot.png')\n",
    "    plt.show()"
   ]
  },
  {
   "cell_type": "code",
   "execution_count": null,
   "metadata": {},
   "outputs": [],
   "source": [
    "count_plot(df,'diagnosis')"
   ]
  },
  {
   "cell_type": "code",
   "execution_count": null,
   "metadata": {},
   "outputs": [],
   "source": [
    "def encoding_data(df):\n",
    "  for column in df.columns:\n",
    "    if df[column].dtype == np.int64 or df[column].dtype == np.float64:\n",
    "      continue\n",
    "    df[column] = LabelEncoder().fit_transform(df[column])\n",
    "  \n",
    "  return df"
   ]
  },
  {
   "cell_type": "code",
   "execution_count": null,
   "metadata": {},
   "outputs": [],
   "source": [
    "encoded_df = encoding_data(df)"
   ]
  },
  {
   "cell_type": "code",
   "execution_count": null,
   "metadata": {},
   "outputs": [],
   "source": [
    "def corr_matrix(df,title:str):\n",
    "    plt.figure(figsize=(25, 20))\n",
    "    res=sns.heatmap(df.corr(), annot=True,fmt='.2f');\n",
    "    res.set_xticklabels(res.get_xmajorticklabels(), fontsize = 15)\n",
    "    res.set_yticklabels(res.get_ymajorticklabels(), fontsize = 15)\n",
    "    plt.savefig(f'../charts/{title}.png')\n",
    "    plt.show"
   ]
  },
  {
   "cell_type": "code",
   "execution_count": null,
   "metadata": {},
   "outputs": [],
   "source": [
    "corr_matrix(encoded_df,'general_correlation')"
   ]
  },
  {
   "cell_type": "code",
   "execution_count": null,
   "metadata": {},
   "outputs": [],
   "source": [
    "def find_high_corr(df):\n",
    "    high_corr= df.corr()\n",
    "    high_corr_columns = high_corr.index[abs(high_corr['diagnosis'])>=0.5]\n",
    "    \n",
    "    return high_corr_columns"
   ]
  },
  {
   "cell_type": "code",
   "execution_count": null,
   "metadata": {},
   "outputs": [],
   "source": [
    "columns_for_analysis = find_high_corr(encoded_df)\n",
    "corr_matrix(encoded_df[columns_for_analysis],'higher_correlation')"
   ]
  },
  {
   "cell_type": "code",
   "execution_count": null,
   "metadata": {},
   "outputs": [],
   "source": []
  }
 ],
 "metadata": {
  "kernelspec": {
   "display_name": "Python 3.10.4 ('causal')",
   "language": "python",
   "name": "python3"
  },
  "language_info": {
   "codemirror_mode": {
    "name": "ipython",
    "version": 3
   },
   "file_extension": ".py",
   "mimetype": "text/x-python",
   "name": "python",
   "nbconvert_exporter": "python",
   "pygments_lexer": "ipython3",
   "version": "3.10.4"
  },
  "orig_nbformat": 4,
  "vscode": {
   "interpreter": {
    "hash": "fd0bcea0d5906e730a0c4b6557364476debd64c9555fa97f2ffcb5395f67e502"
   }
  }
 },
 "nbformat": 4,
 "nbformat_minor": 2
}
