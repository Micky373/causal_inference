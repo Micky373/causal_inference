{
 "cells": [
  {
   "cell_type": "code",
   "execution_count": 1,
   "metadata": {},
   "outputs": [
    {
     "name": "stderr",
     "output_type": "stream",
     "text": [
      "/home/micky/anaconda3/envs/causal_new/lib/python3.8/site-packages/tqdm/auto.py:22: TqdmWarning: IProgress not found. Please update jupyter and ipywidgets. See https://ipywidgets.readthedocs.io/en/stable/user_install.html\n",
      "  from .autonotebook import tqdm as notebook_tqdm\n"
     ]
    }
   ],
   "source": [
    "from causalnex.structure.notears import from_pandas\n",
    "from causalnex.plots import plot_structure, NODE_STYLE, EDGE_STYLE\n",
    "from IPython.display import Image\n",
    "import warnings\n",
    "import pandas as pd\n",
    "\n",
    "warnings.filterwarnings('ignore')"
   ]
  },
  {
   "cell_type": "code",
   "execution_count": 2,
   "metadata": {},
   "outputs": [
    {
     "data": {
      "text/html": [
       "<div>\n",
       "<style scoped>\n",
       "    .dataframe tbody tr th:only-of-type {\n",
       "        vertical-align: middle;\n",
       "    }\n",
       "\n",
       "    .dataframe tbody tr th {\n",
       "        vertical-align: top;\n",
       "    }\n",
       "\n",
       "    .dataframe thead th {\n",
       "        text-align: right;\n",
       "    }\n",
       "</style>\n",
       "<table border=\"1\" class=\"dataframe\">\n",
       "  <thead>\n",
       "    <tr style=\"text-align: right;\">\n",
       "      <th></th>\n",
       "      <th>area_worst</th>\n",
       "      <th>area_mean</th>\n",
       "      <th>area_se</th>\n",
       "      <th>perimeter_worst</th>\n",
       "      <th>perimeter_mean</th>\n",
       "      <th>radius_worst</th>\n",
       "      <th>radius_mean</th>\n",
       "      <th>perimeter_se</th>\n",
       "      <th>texture_worst</th>\n",
       "      <th>texture_mean</th>\n",
       "      <th>diagnosis</th>\n",
       "    </tr>\n",
       "  </thead>\n",
       "  <tbody>\n",
       "    <tr>\n",
       "      <th>0</th>\n",
       "      <td>0.321214</td>\n",
       "      <td>0.259233</td>\n",
       "      <td>0.195146</td>\n",
       "      <td>0.476307</td>\n",
       "      <td>0.389128</td>\n",
       "      <td>0.442429</td>\n",
       "      <td>0.371345</td>\n",
       "      <td>0.263011</td>\n",
       "      <td>0.100865</td>\n",
       "      <td>0.016148</td>\n",
       "      <td>1.0</td>\n",
       "    </tr>\n",
       "    <tr>\n",
       "      <th>1</th>\n",
       "      <td>0.300951</td>\n",
       "      <td>0.346851</td>\n",
       "      <td>0.086894</td>\n",
       "      <td>0.373285</td>\n",
       "      <td>0.425815</td>\n",
       "      <td>0.419673</td>\n",
       "      <td>0.444735</td>\n",
       "      <td>0.086051</td>\n",
       "      <td>0.209920</td>\n",
       "      <td>0.188485</td>\n",
       "      <td>1.0</td>\n",
       "    </tr>\n",
       "    <tr>\n",
       "      <th>2</th>\n",
       "      <td>0.266958</td>\n",
       "      <td>0.320355</td>\n",
       "      <td>0.116134</td>\n",
       "      <td>0.362429</td>\n",
       "      <td>0.424660</td>\n",
       "      <td>0.396605</td>\n",
       "      <td>0.428760</td>\n",
       "      <td>0.128572</td>\n",
       "      <td>0.256670</td>\n",
       "      <td>0.278187</td>\n",
       "      <td>1.0</td>\n",
       "    </tr>\n",
       "    <tr>\n",
       "      <th>3</th>\n",
       "      <td>0.128569</td>\n",
       "      <td>0.140738</td>\n",
       "      <td>0.052182</td>\n",
       "      <td>0.330075</td>\n",
       "      <td>0.319345</td>\n",
       "      <td>0.339598</td>\n",
       "      <td>0.287327</td>\n",
       "      <td>0.173218</td>\n",
       "      <td>0.527809</td>\n",
       "      <td>0.493496</td>\n",
       "      <td>1.0</td>\n",
       "    </tr>\n",
       "    <tr>\n",
       "      <th>4</th>\n",
       "      <td>0.255061</td>\n",
       "      <td>0.365362</td>\n",
       "      <td>0.122229</td>\n",
       "      <td>0.378548</td>\n",
       "      <td>0.471170</td>\n",
       "      <td>0.388103</td>\n",
       "      <td>0.470353</td>\n",
       "      <td>0.164698</td>\n",
       "      <td>0.092544</td>\n",
       "      <td>0.116920</td>\n",
       "      <td>1.0</td>\n",
       "    </tr>\n",
       "  </tbody>\n",
       "</table>\n",
       "</div>"
      ],
      "text/plain": [
       "   area_worst  area_mean   area_se  perimeter_worst  perimeter_mean  \\\n",
       "0    0.321214   0.259233  0.195146         0.476307        0.389128   \n",
       "1    0.300951   0.346851  0.086894         0.373285        0.425815   \n",
       "2    0.266958   0.320355  0.116134         0.362429        0.424660   \n",
       "3    0.128569   0.140738  0.052182         0.330075        0.319345   \n",
       "4    0.255061   0.365362  0.122229         0.378548        0.471170   \n",
       "\n",
       "   radius_worst  radius_mean  perimeter_se  texture_worst  texture_mean  \\\n",
       "0      0.442429     0.371345      0.263011       0.100865      0.016148   \n",
       "1      0.419673     0.444735      0.086051       0.209920      0.188485   \n",
       "2      0.396605     0.428760      0.128572       0.256670      0.278187   \n",
       "3      0.339598     0.287327      0.173218       0.527809      0.493496   \n",
       "4      0.388103     0.470353      0.164698       0.092544      0.116920   \n",
       "\n",
       "   diagnosis  \n",
       "0        1.0  \n",
       "1        1.0  \n",
       "2        1.0  \n",
       "3        1.0  \n",
       "4        1.0  "
      ]
     },
     "execution_count": 2,
     "metadata": {},
     "output_type": "execute_result"
    }
   ],
   "source": [
    "df = pd.read_csv('../data/cleaned_data.csv')\n",
    "df.head()"
   ]
  },
  {
   "cell_type": "code",
   "execution_count": 3,
   "metadata": {},
   "outputs": [],
   "source": [
    "df_train = df.head(int(0.8*len(df)))\n",
    "df_hold = df.tail(int(0.2*len(df)))"
   ]
  },
  {
   "cell_type": "code",
   "execution_count": 4,
   "metadata": {},
   "outputs": [],
   "source": [
    "sample_20 = df_train.sample(int(0.2*len(df_train)), random_state=2)\n",
    "sample_40 = df_train.sample(int(0.4*len(df_train)), random_state=2)\n",
    "sample_60 = df_train.sample(int(0.6*len(df_train)), random_state=2)\n",
    "sample_80 = df_train.sample(int(0.8*len(df_train)), random_state=2)"
   ]
  },
  {
   "cell_type": "code",
   "execution_count": 5,
   "metadata": {},
   "outputs": [],
   "source": [
    "sm = from_pandas(df_train,w_threshold=0.8)\n",
    "sm_20 = from_pandas(sample_20,w_threshold=0.8)\n",
    "sm_40 = from_pandas(sample_40,w_threshold=0.8)\n",
    "sm_60 = from_pandas(sample_60,w_threshold=0.8)\n",
    "sm_80 = from_pandas(sample_80,w_threshold=0.8)"
   ]
  },
  {
   "cell_type": "code",
   "execution_count": null,
   "metadata": {},
   "outputs": [],
   "source": [
    "viz = plot_structure(\n",
    "    sm,\n",
    "    graph_attributes={\"scale\": \"3\"},\n",
    "    all_node_attributes=NODE_STYLE.WEAK,\n",
    "    all_edge_attributes=EDGE_STYLE.WEAK)\n",
    "Image(viz.draw(format='png'))"
   ]
  },
  {
   "cell_type": "code",
   "execution_count": null,
   "metadata": {},
   "outputs": [],
   "source": [
    "def jaccard_similarity(g, h, th1, th2):\n",
    "    g.remove_edges_below_threshold(th1)\n",
    "    h.remove_edges_below_threshold(th2)\n",
    "    a = g.edges\n",
    "    b = h.edges\n",
    "    i = set(a).intersection(b)\n",
    "    return round(len(i) / (len(a) + len(b) - len(i)),3)"
   ]
  }
 ],
 "metadata": {
  "kernelspec": {
   "display_name": "Python 3.8.0 ('causal_new')",
   "language": "python",
   "name": "python3"
  },
  "language_info": {
   "codemirror_mode": {
    "name": "ipython",
    "version": 3
   },
   "file_extension": ".py",
   "mimetype": "text/x-python",
   "name": "python",
   "nbconvert_exporter": "python",
   "pygments_lexer": "ipython3",
   "version": "3.8.13"
  },
  "orig_nbformat": 4,
  "vscode": {
   "interpreter": {
    "hash": "5266d8fbad3a20596ba83ba672acacd04c842eca1bf921e71a4ccdc91cb0ac96"
   }
  }
 },
 "nbformat": 4,
 "nbformat_minor": 2
}
