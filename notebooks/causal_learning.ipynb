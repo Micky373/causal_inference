{
 "cells": [
  {
   "cell_type": "code",
   "execution_count": 1,
   "metadata": {},
   "outputs": [
    {
     "name": "stderr",
     "output_type": "stream",
     "text": [
      "/home/micky/anaconda3/envs/causal_new/lib/python3.8/site-packages/tqdm/auto.py:22: TqdmWarning: IProgress not found. Please update jupyter and ipywidgets. See https://ipywidgets.readthedocs.io/en/stable/user_install.html\n",
      "  from .autonotebook import tqdm as notebook_tqdm\n"
     ]
    }
   ],
   "source": [
    "from causalnex.structure.notears import from_pandas\n",
    "from causalnex.plots import plot_structure, NODE_STYLE, EDGE_STYLE\n",
    "from IPython.display import Image\n",
    "import warnings\n",
    "import pandas as pd\n",
    "\n",
    "warnings.filterwarnings('ignore')"
   ]
  },
  {
   "cell_type": "code",
   "execution_count": 2,
   "metadata": {},
   "outputs": [
    {
     "data": {
      "text/html": [
       "<div>\n",
       "<style scoped>\n",
       "    .dataframe tbody tr th:only-of-type {\n",
       "        vertical-align: middle;\n",
       "    }\n",
       "\n",
       "    .dataframe tbody tr th {\n",
       "        vertical-align: top;\n",
       "    }\n",
       "\n",
       "    .dataframe thead th {\n",
       "        text-align: right;\n",
       "    }\n",
       "</style>\n",
       "<table border=\"1\" class=\"dataframe\">\n",
       "  <thead>\n",
       "    <tr style=\"text-align: right;\">\n",
       "      <th></th>\n",
       "      <th>concave points_mean</th>\n",
       "      <th>radius_worst</th>\n",
       "      <th>concave points_worst</th>\n",
       "      <th>perimeter_worst</th>\n",
       "      <th>area_mean</th>\n",
       "      <th>perimeter_mean</th>\n",
       "      <th>radius_mean</th>\n",
       "      <th>diagnosis</th>\n",
       "    </tr>\n",
       "  </thead>\n",
       "  <tbody>\n",
       "    <tr>\n",
       "      <th>0</th>\n",
       "      <td>0.429309</td>\n",
       "      <td>0.364519</td>\n",
       "      <td>0.535542</td>\n",
       "      <td>0.392431</td>\n",
       "      <td>0.213584</td>\n",
       "      <td>0.320604</td>\n",
       "      <td>0.305953</td>\n",
       "      <td>1.0</td>\n",
       "    </tr>\n",
       "    <tr>\n",
       "      <th>1</th>\n",
       "      <td>0.233319</td>\n",
       "      <td>0.406018</td>\n",
       "      <td>0.427609</td>\n",
       "      <td>0.361139</td>\n",
       "      <td>0.335565</td>\n",
       "      <td>0.411960</td>\n",
       "      <td>0.430264</td>\n",
       "      <td>1.0</td>\n",
       "    </tr>\n",
       "    <tr>\n",
       "      <th>2</th>\n",
       "      <td>0.395136</td>\n",
       "      <td>0.345844</td>\n",
       "      <td>0.519059</td>\n",
       "      <td>0.316042</td>\n",
       "      <td>0.279353</td>\n",
       "      <td>0.370308</td>\n",
       "      <td>0.373883</td>\n",
       "      <td>1.0</td>\n",
       "    </tr>\n",
       "    <tr>\n",
       "      <th>3</th>\n",
       "      <td>0.461150</td>\n",
       "      <td>0.219003</td>\n",
       "      <td>0.780439</td>\n",
       "      <td>0.212861</td>\n",
       "      <td>0.090760</td>\n",
       "      <td>0.205942</td>\n",
       "      <td>0.185294</td>\n",
       "      <td>1.0</td>\n",
       "    </tr>\n",
       "    <tr>\n",
       "      <th>4</th>\n",
       "      <td>0.354198</td>\n",
       "      <td>0.355124</td>\n",
       "      <td>0.381549</td>\n",
       "      <td>0.346380</td>\n",
       "      <td>0.334315</td>\n",
       "      <td>0.431132</td>\n",
       "      <td>0.430384</td>\n",
       "      <td>1.0</td>\n",
       "    </tr>\n",
       "  </tbody>\n",
       "</table>\n",
       "</div>"
      ],
      "text/plain": [
       "   concave points_mean  radius_worst  concave points_worst  perimeter_worst  \\\n",
       "0             0.429309      0.364519              0.535542         0.392431   \n",
       "1             0.233319      0.406018              0.427609         0.361139   \n",
       "2             0.395136      0.345844              0.519059         0.316042   \n",
       "3             0.461150      0.219003              0.780439         0.212861   \n",
       "4             0.354198      0.355124              0.381549         0.346380   \n",
       "\n",
       "   area_mean  perimeter_mean  radius_mean  diagnosis  \n",
       "0   0.213584        0.320604     0.305953        1.0  \n",
       "1   0.335565        0.411960     0.430264        1.0  \n",
       "2   0.279353        0.370308     0.373883        1.0  \n",
       "3   0.090760        0.205942     0.185294        1.0  \n",
       "4   0.334315        0.431132     0.430384        1.0  "
      ]
     },
     "execution_count": 2,
     "metadata": {},
     "output_type": "execute_result"
    }
   ],
   "source": [
    "df = pd.read_csv('../data/cleaned_data.csv')\n",
    "df.head()"
   ]
  },
  {
   "cell_type": "code",
   "execution_count": 3,
   "metadata": {},
   "outputs": [],
   "source": [
    "df_train = df.head(int(0.8*len(df)))\n",
    "df_hold = df.tail(int(0.2*len(df)))"
   ]
  },
  {
   "cell_type": "code",
   "execution_count": 4,
   "metadata": {},
   "outputs": [],
   "source": [
    "sample_20 = df_train.sample(int(0.2*len(df_train)), random_state=2)\n",
    "sample_40 = df_train.sample(int(0.4*len(df_train)), random_state=2)\n",
    "sample_60 = df_train.sample(int(0.6*len(df_train)), random_state=2)\n",
    "sample_80 = df_train.sample(int(0.8*len(df_train)), random_state=2)"
   ]
  },
  {
   "cell_type": "code",
   "execution_count": 5,
   "metadata": {},
   "outputs": [],
   "source": [
    "sm = from_pandas(df_train,w_threshold=0.8)\n",
    "sm_20 = from_pandas(sample_20,w_threshold=0.8)\n",
    "sm_40 = from_pandas(sample_40,w_threshold=0.8)\n",
    "sm_60 = from_pandas(sample_60,w_threshold=0.8)\n",
    "sm_80 = from_pandas(sample_80,w_threshold=0.8)"
   ]
  },
  {
   "cell_type": "code",
   "execution_count": null,
   "metadata": {},
   "outputs": [],
   "source": [
    "viz = plot_structure(\n",
    "    sm,\n",
    "    graph_attributes={\"scale\": \"3\"},\n",
    "    all_node_attributes=NODE_STYLE.WEAK,\n",
    "    all_edge_attributes=EDGE_STYLE.WEAK)\n",
    "Image(viz.draw(format='png'))"
   ]
  },
  {
   "cell_type": "code",
   "execution_count": null,
   "metadata": {},
   "outputs": [],
   "source": [
    "def jaccard_similarity(g, h, th1, th2):\n",
    "    g.remove_edges_below_threshold(th1)\n",
    "    h.remove_edges_below_threshold(th2)\n",
    "    a = g.edges\n",
    "    b = h.edges\n",
    "    i = set(a).intersection(b)\n",
    "    return round(len(i) / (len(a) + len(b) - len(i)),3)"
   ]
  }
 ],
 "metadata": {
  "kernelspec": {
   "display_name": "Python 3.8.0 ('causal_new')",
   "language": "python",
   "name": "python3"
  },
  "language_info": {
   "codemirror_mode": {
    "name": "ipython",
    "version": 3
   },
   "file_extension": ".py",
   "mimetype": "text/x-python",
   "name": "python",
   "nbconvert_exporter": "python",
   "pygments_lexer": "ipython3",
   "version": "3.8.13"
  },
  "orig_nbformat": 4,
  "vscode": {
   "interpreter": {
    "hash": "5266d8fbad3a20596ba83ba672acacd04c842eca1bf921e71a4ccdc91cb0ac96"
   }
  }
 },
 "nbformat": 4,
 "nbformat_minor": 2
}
