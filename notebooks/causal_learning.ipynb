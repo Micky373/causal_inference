{
 "cells": [
  {
   "cell_type": "code",
   "execution_count": null,
   "metadata": {},
   "outputs": [],
   "source": [
    "df_feature = df_clean[['diagnosis','area_mean', 'concavity_mean', 'concave points_mean', 'radius_worst',\n",
    "       'perimeter_worst', 'area_worst', 'concavity_worst','concave points_worst']]\n",
    "df_feature.head()"
   ]
  },
  {
   "cell_type": "code",
   "execution_count": null,
   "metadata": {},
   "outputs": [],
   "source": [
    "df_train = df_feature.head(int(0.8*len(df_feature)))\n",
    "df_hold = df_feature.tail(int(0.2*len(df_feature)))"
   ]
  },
  {
   "cell_type": "code",
   "execution_count": null,
   "metadata": {},
   "outputs": [],
   "source": [
    "sample_20 = df_train.sample(int(0.2*len(df_train)), random_state=2)\n",
    "sample_40 = df_train.sample(int(0.4*len(df_train)), random_state=2)\n",
    "sample_60 = df_train.sample(int(0.6*len(df_train)), random_state=2)\n",
    "sample_80 = df_train.sample(int(0.8*len(df_train)), random_state=2)"
   ]
  },
  {
   "cell_type": "code",
   "execution_count": null,
   "metadata": {},
   "outputs": [],
   "source": [
    "sm = from_pandas(df_train)\n",
    "sm_20 = from_pandas(sample_20)\n",
    "sm_40 = from_pandas(sample_40)\n",
    "sm_60 = from_pandas(sample_60)\n",
    "sm_80 = from_pandas(sample_80)"
   ]
  },
  {
   "cell_type": "code",
   "execution_count": null,
   "metadata": {},
   "outputs": [],
   "source": [
    "sm.remove_edges_below_threshold(0.8)\n",
    "viz = plot_structure(\n",
    "    sm,\n",
    "    graph_attributes={\"scale\": \"2\"},\n",
    "    all_node_attributes=NODE_STYLE.WEAK,\n",
    "    all_edge_attributes=EDGE_STYLE.WEAK)\n",
    "Image(viz.draw(format='png'))"
   ]
  },
  {
   "cell_type": "code",
   "execution_count": null,
   "metadata": {},
   "outputs": [],
   "source": [
    "def jaccard_similarity(g, h, th1, th2):\n",
    "    g.remove_edges_below_threshold(th1)\n",
    "    h.remove_edges_below_threshold(th2)\n",
    "    a = g.edges\n",
    "    b = h.edges\n",
    "    i = set(a).intersection(b)\n",
    "    return round(len(i) / (len(a) + len(b) - len(i)),3)"
   ]
  }
 ],
 "metadata": {
  "kernelspec": {
   "display_name": "Python 3.8.0 ('causal_new')",
   "language": "python",
   "name": "python3"
  },
  "language_info": {
   "name": "python",
   "version": "3.8.0"
  },
  "orig_nbformat": 4,
  "vscode": {
   "interpreter": {
    "hash": "5266d8fbad3a20596ba83ba672acacd04c842eca1bf921e71a4ccdc91cb0ac96"
   }
  }
 },
 "nbformat": 4,
 "nbformat_minor": 2
}
