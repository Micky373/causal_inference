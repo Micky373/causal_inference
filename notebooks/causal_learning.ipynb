{
 "cells": [
  {
   "cell_type": "code",
   "execution_count": 3,
   "metadata": {},
   "outputs": [],
   "source": [
    "from causalnex.structure.notears import from_pandas\n",
    "from causalnex.plots import plot_structure, NODE_STYLE, EDGE_STYLE\n",
    "import warnings\n",
    "import pandas as pd\n",
    "\n",
    "warnings.filterwarnings('ignore')"
   ]
  },
  {
   "cell_type": "code",
   "execution_count": 5,
   "metadata": {},
   "outputs": [
    {
     "data": {
      "text/html": [
       "<div>\n",
       "<style scoped>\n",
       "    .dataframe tbody tr th:only-of-type {\n",
       "        vertical-align: middle;\n",
       "    }\n",
       "\n",
       "    .dataframe tbody tr th {\n",
       "        vertical-align: top;\n",
       "    }\n",
       "\n",
       "    .dataframe thead th {\n",
       "        text-align: right;\n",
       "    }\n",
       "</style>\n",
       "<table border=\"1\" class=\"dataframe\">\n",
       "  <thead>\n",
       "    <tr style=\"text-align: right;\">\n",
       "      <th></th>\n",
       "      <th>diagnosis</th>\n",
       "      <th>area_mean</th>\n",
       "      <th>concavity_mean</th>\n",
       "      <th>concave points_mean</th>\n",
       "      <th>radius_worst</th>\n",
       "      <th>perimeter_worst</th>\n",
       "      <th>area_worst</th>\n",
       "      <th>concavity_worst</th>\n",
       "      <th>concave points_worst</th>\n",
       "    </tr>\n",
       "  </thead>\n",
       "  <tbody>\n",
       "    <tr>\n",
       "      <th>0</th>\n",
       "      <td>1.0</td>\n",
       "      <td>0.360927</td>\n",
       "      <td>0.316195</td>\n",
       "      <td>0.245670</td>\n",
       "      <td>0.33910</td>\n",
       "      <td>0.328167</td>\n",
       "      <td>0.301037</td>\n",
       "      <td>0.418033</td>\n",
       "      <td>0.362807</td>\n",
       "    </tr>\n",
       "    <tr>\n",
       "      <th>1</th>\n",
       "      <td>1.0</td>\n",
       "      <td>0.360927</td>\n",
       "      <td>0.566937</td>\n",
       "      <td>0.928665</td>\n",
       "      <td>0.33910</td>\n",
       "      <td>0.328167</td>\n",
       "      <td>0.301037</td>\n",
       "      <td>0.473547</td>\n",
       "      <td>0.362807</td>\n",
       "    </tr>\n",
       "    <tr>\n",
       "      <th>2</th>\n",
       "      <td>1.0</td>\n",
       "      <td>0.360927</td>\n",
       "      <td>0.316195</td>\n",
       "      <td>0.245670</td>\n",
       "      <td>0.33910</td>\n",
       "      <td>0.328167</td>\n",
       "      <td>0.301037</td>\n",
       "      <td>0.418033</td>\n",
       "      <td>0.362807</td>\n",
       "    </tr>\n",
       "    <tr>\n",
       "      <th>3</th>\n",
       "      <td>1.0</td>\n",
       "      <td>0.360927</td>\n",
       "      <td>0.316195</td>\n",
       "      <td>0.245670</td>\n",
       "      <td>0.32872</td>\n",
       "      <td>0.357472</td>\n",
       "      <td>0.092140</td>\n",
       "      <td>0.418033</td>\n",
       "      <td>0.362807</td>\n",
       "    </tr>\n",
       "    <tr>\n",
       "      <th>4</th>\n",
       "      <td>1.0</td>\n",
       "      <td>0.360927</td>\n",
       "      <td>0.316195</td>\n",
       "      <td>0.245670</td>\n",
       "      <td>0.33910</td>\n",
       "      <td>0.328167</td>\n",
       "      <td>0.301037</td>\n",
       "      <td>0.418033</td>\n",
       "      <td>0.362807</td>\n",
       "    </tr>\n",
       "  </tbody>\n",
       "</table>\n",
       "</div>"
      ],
      "text/plain": [
       "   diagnosis  area_mean  concavity_mean  concave points_mean  radius_worst  \\\n",
       "0        1.0   0.360927        0.316195             0.245670       0.33910   \n",
       "1        1.0   0.360927        0.566937             0.928665       0.33910   \n",
       "2        1.0   0.360927        0.316195             0.245670       0.33910   \n",
       "3        1.0   0.360927        0.316195             0.245670       0.32872   \n",
       "4        1.0   0.360927        0.316195             0.245670       0.33910   \n",
       "\n",
       "   perimeter_worst  area_worst  concavity_worst  concave points_worst  \n",
       "0         0.328167    0.301037         0.418033              0.362807  \n",
       "1         0.328167    0.301037         0.473547              0.362807  \n",
       "2         0.328167    0.301037         0.418033              0.362807  \n",
       "3         0.357472    0.092140         0.418033              0.362807  \n",
       "4         0.328167    0.301037         0.418033              0.362807  "
      ]
     },
     "execution_count": 5,
     "metadata": {},
     "output_type": "execute_result"
    }
   ],
   "source": [
    "df = pd.read_csv('../data/cleaned_data.csv')\n",
    "df.head()"
   ]
  },
  {
   "cell_type": "code",
   "execution_count": 6,
   "metadata": {},
   "outputs": [],
   "source": [
    "df_train = df.head(int(0.8*len(df)))\n",
    "df_hold = df.tail(int(0.2*len(df)))"
   ]
  },
  {
   "cell_type": "code",
   "execution_count": 7,
   "metadata": {},
   "outputs": [],
   "source": [
    "sample_20 = df_train.sample(int(0.2*len(df_train)), random_state=2)\n",
    "sample_40 = df_train.sample(int(0.4*len(df_train)), random_state=2)\n",
    "sample_60 = df_train.sample(int(0.6*len(df_train)), random_state=2)\n",
    "sample_80 = df_train.sample(int(0.8*len(df_train)), random_state=2)"
   ]
  },
  {
   "cell_type": "code",
   "execution_count": 8,
   "metadata": {},
   "outputs": [],
   "source": [
    "sm = from_pandas(df_train)\n",
    "sm_20 = from_pandas(sample_20)\n",
    "sm_40 = from_pandas(sample_40)\n",
    "sm_60 = from_pandas(sample_60)\n",
    "sm_80 = from_pandas(sample_80)"
   ]
  },
  {
   "cell_type": "code",
   "execution_count": 9,
   "metadata": {},
   "outputs": [
    {
     "ename": "NameError",
     "evalue": "name 'Image' is not defined",
     "output_type": "error",
     "traceback": [
      "\u001b[0;31m---------------------------------------------------------------------------\u001b[0m",
      "\u001b[0;31mNameError\u001b[0m                                 Traceback (most recent call last)",
      "\u001b[1;32m/home/micky/Desktop/10Acad/causal_inference/notebooks/causal_learning.ipynb Cell 6'\u001b[0m in \u001b[0;36m<cell line: 7>\u001b[0;34m()\u001b[0m\n\u001b[1;32m      <a href='vscode-notebook-cell:/home/micky/Desktop/10Acad/causal_inference/notebooks/causal_learning.ipynb#ch0000002?line=0'>1</a>\u001b[0m sm\u001b[39m.\u001b[39mremove_edges_below_threshold(\u001b[39m0.8\u001b[39m)\n\u001b[1;32m      <a href='vscode-notebook-cell:/home/micky/Desktop/10Acad/causal_inference/notebooks/causal_learning.ipynb#ch0000002?line=1'>2</a>\u001b[0m viz \u001b[39m=\u001b[39m plot_structure(\n\u001b[1;32m      <a href='vscode-notebook-cell:/home/micky/Desktop/10Acad/causal_inference/notebooks/causal_learning.ipynb#ch0000002?line=2'>3</a>\u001b[0m     sm,\n\u001b[1;32m      <a href='vscode-notebook-cell:/home/micky/Desktop/10Acad/causal_inference/notebooks/causal_learning.ipynb#ch0000002?line=3'>4</a>\u001b[0m     graph_attributes\u001b[39m=\u001b[39m{\u001b[39m\"\u001b[39m\u001b[39mscale\u001b[39m\u001b[39m\"\u001b[39m: \u001b[39m\"\u001b[39m\u001b[39m2\u001b[39m\u001b[39m\"\u001b[39m},\n\u001b[1;32m      <a href='vscode-notebook-cell:/home/micky/Desktop/10Acad/causal_inference/notebooks/causal_learning.ipynb#ch0000002?line=4'>5</a>\u001b[0m     all_node_attributes\u001b[39m=\u001b[39mNODE_STYLE\u001b[39m.\u001b[39mWEAK,\n\u001b[1;32m      <a href='vscode-notebook-cell:/home/micky/Desktop/10Acad/causal_inference/notebooks/causal_learning.ipynb#ch0000002?line=5'>6</a>\u001b[0m     all_edge_attributes\u001b[39m=\u001b[39mEDGE_STYLE\u001b[39m.\u001b[39mWEAK)\n\u001b[0;32m----> <a href='vscode-notebook-cell:/home/micky/Desktop/10Acad/causal_inference/notebooks/causal_learning.ipynb#ch0000002?line=6'>7</a>\u001b[0m Image(viz\u001b[39m.\u001b[39mdraw(\u001b[39mformat\u001b[39m\u001b[39m=\u001b[39m\u001b[39m'\u001b[39m\u001b[39mpng\u001b[39m\u001b[39m'\u001b[39m))\n",
      "\u001b[0;31mNameError\u001b[0m: name 'Image' is not defined"
     ]
    }
   ],
   "source": [
    "sm.remove_edges_below_threshold(0.8)\n",
    "viz = plot_structure(\n",
    "    sm,\n",
    "    graph_attributes={\"scale\": \"2\"},\n",
    "    all_node_attributes=NODE_STYLE.WEAK,\n",
    "    all_edge_attributes=EDGE_STYLE.WEAK)\n",
    "Image(viz.draw(format='png'))"
   ]
  },
  {
   "cell_type": "code",
   "execution_count": null,
   "metadata": {},
   "outputs": [],
   "source": [
    "def jaccard_similarity(g, h, th1, th2):\n",
    "    g.remove_edges_below_threshold(th1)\n",
    "    h.remove_edges_below_threshold(th2)\n",
    "    a = g.edges\n",
    "    b = h.edges\n",
    "    i = set(a).intersection(b)\n",
    "    return round(len(i) / (len(a) + len(b) - len(i)),3)"
   ]
  }
 ],
 "metadata": {
  "kernelspec": {
   "display_name": "Python 3.8.0 ('causal_new')",
   "language": "python",
   "name": "python3"
  },
  "language_info": {
   "codemirror_mode": {
    "name": "ipython",
    "version": 3
   },
   "file_extension": ".py",
   "mimetype": "text/x-python",
   "name": "python",
   "nbconvert_exporter": "python",
   "pygments_lexer": "ipython3",
   "version": "3.8.13"
  },
  "orig_nbformat": 4,
  "vscode": {
   "interpreter": {
    "hash": "5266d8fbad3a20596ba83ba672acacd04c842eca1bf921e71a4ccdc91cb0ac96"
   }
  }
 },
 "nbformat": 4,
 "nbformat_minor": 2
}
